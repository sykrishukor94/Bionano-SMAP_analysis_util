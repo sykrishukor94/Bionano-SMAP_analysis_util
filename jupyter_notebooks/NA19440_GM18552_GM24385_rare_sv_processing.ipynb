{
 "cells": [
  {
   "cell_type": "markdown",
   "metadata": {},
   "source": [
    "# QC Controldb Samples\n",
    "\n",
    "Certain Solve 3.7 controldb samples - e.g. NA19440, GM18552 - have too many SVs per sample. \n",
    "\n",
    "GM24385 was used as a test sample to build the cohort enrichment workflow, and will be compared against the above samples to verify number of high confidence and rare SVs."
   ]
  },
  {
   "cell_type": "code",
   "execution_count": 167,
   "metadata": {},
   "outputs": [],
   "source": [
    "# load packages\n",
    "from itertools import groupby\n",
    "from matplotlib_venn import venn2, venn2_circles\n",
    "import numpy as np\n",
    "import pandas as pd\n",
    "import seaborn as sns\n",
    "import matplotlib.pyplot as plt\n",
    "import scipy\n",
    "from enrichment_util import *\n",
    "\n",
    "import copy\n",
    "import re \n",
    "import os\n",
    "import pathlib\n",
    "working_dir = pathlib.Path().absolute()\n",
    "output_dir = \"/home/users6/sshukor/enrichment_project/output/controldb_QC/\"\n",
    "os.chdir(working_dir)\n",
    "\n",
    "\n",
    "%matplotlib inline\n",
    "pd.options.mode.chained_assignment = None  # default='warn'"
   ]
  },
  {
   "cell_type": "code",
   "execution_count": 168,
   "metadata": {},
   "outputs": [],
   "source": [
    "# import helpef functions\n",
    "\n",
    "# compile full and minimal SV\n",
    "\n",
    "# Helper function to get smap table without preceding \"#...\"\" lines\n",
    "def get_sv_from_smap(smap_path):\n",
    "\n",
    "    with open(smap_path) as file:\n",
    "        for line in file:\n",
    "            \n",
    "            if ('summary' in smap_path):\n",
    "                if line[0:2] == \"#c\":\n",
    "                    header = line[1:].strip()\n",
    "                    break\n",
    "                elif line[0:1] == \"#\":\n",
    "                    pass\n",
    "\n",
    "            else:\n",
    "                if line[0:2] == \"#h\":\n",
    "                    header = line[3:].strip()\n",
    "                    break\n",
    "                elif line[0:1] == \"#\":\n",
    "                    pass\n",
    "\n",
    "        \n",
    "        data = [line.strip() for line in file if not line.startswith('#')]\n",
    "\n",
    "    df = pd.DataFrame([row.split('\\t') for row in data])\n",
    "    df.columns = header.split('\\t')[:len(df.columns)]\n",
    "    return df\n",
    "\n",
    "# full_df = get_sv_from_smap('/home/users6/sshukor/enrichment_project/output/solve_3_7_controldb/GM24385_dle1_sop/GM24385_dle1_sop_cluster_molecule_variant.txt')\n",
    "# min_df = get_sv_from_smap('/home/users6/sshukor/enrichment_project/output/solve_3_7_controldb/GM24385_dle1_sop/GM24385_dle1_sop_cluster_molecule_variant_summary.txt')"
   ]
  },
  {
   "cell_type": "code",
   "execution_count": 169,
   "metadata": {},
   "outputs": [],
   "source": [
    "# helper function to choose largest SV size per cluster, ignoring inversion_paired, and including inversion_partial\n",
    "def merge_full_and_minimal_clusters(full_df, min_df):\n",
    "    full_df = full_df.astype({'clusterId':'int','RefcontigID1':'int','RefcontigID2':'int','RefStartPos':'float64','RefEndPos':'float64','SVsize':'float64', 'LinkID':'int','SmapEntryID':'int','Confidence':'float64'})\n",
    "    min_df = min_df.astype({'clusterId':'int','chrom1':'int','chrom2':'int','position1':'float64','position2':'float64','size':'float64', 'numMembers':'int'})\n",
    "\n",
    "    # print(full_df.shape)\n",
    "    # sort clusters and get best representative SV\n",
    "    full_df = full_df.sort_values(by=['clusterId', 'SVsize'], ascending=[True, False])\n",
    "    full_df = full_df.groupby('clusterId').first().reset_index()\n",
    "\n",
    "    # display(full_df), print(full_df.shape)\n",
    "\n",
    "    # msubset desired columns and rename\n",
    "    min_df = min_df[['clusterId','chrom1','chrom2','position1','position2','size', 'numMembers']]\n",
    "    min_df = min_df.rename(columns={'chrom1': 'RefcontigID1', 'chrom2': 'RefcontigID2','size':'SVsize',\n",
    "                                    'position1':'RefStartPos','position2':'RefEndPos'})\n",
    "\n",
    "    # merge out_df with cluster_df to change coordincates (min(start):max(end)), median SVsize, and Confidence \n",
    "    out_df = pd.merge(full_df, min_df, on='clusterId', suffixes=('_remove', ''))\n",
    "    out_df = out_df.drop([i for i in out_df.columns if 'remove' in i], axis=1)\n",
    "\n",
    "    return out_df\n",
    "\n",
    "# test_out = merge_full_and_minimal_clusters(full_df, min_df)"
   ]
  },
  {
   "cell_type": "code",
   "execution_count": 170,
   "metadata": {},
   "outputs": [],
   "source": [
    "# load vap .smap, filter out for conf and rare SVs"
   ]
  },
  {
   "cell_type": "markdown",
   "metadata": {},
   "source": [
    "## Load all 3 sample files"
   ]
  },
  {
   "cell_type": "markdown",
   "metadata": {},
   "source": [
    "### NA19440"
   ]
  },
  {
   "cell_type": "code",
   "execution_count": 171,
   "metadata": {},
   "outputs": [
    {
     "name": "stdout",
     "output_type": "stream",
     "text": [
      "(15873, 52) (15773, 29) (9781, 11)\n"
     ]
    }
   ],
   "source": [
    "# load NA19440 sample\n",
    "vap_df = get_sv_from_smap('/home/users6/sshukor/enrichment_project/input/controlsdb_solve3.7/NA19440_vap/variants_combine_filters_inMoleRefine1.smap')\n",
    "full_df = get_sv_from_smap('/home/users6/sshukor/enrichment_project/output/solve_clustering/NA19440_vap/NA19440_vap_cluster_molecule_variant.txt')\n",
    "min_df = get_sv_from_smap('/home/users6/sshukor/enrichment_project/output/solve_clustering/NA19440_vap/NA19440_vap_cluster_molecule_variant_summary.txt')\n",
    "# declare datatypes\n",
    "print(vap_df.shape, full_df.shape, min_df.shape)\n",
    "# merge percent controldb - 'Present_in_%_of_BNG_control_samples_with_the_same_enzyme'\n",
    "full_df = pd.merge(full_df, vap_df[[\"SmapEntryID\", 'Present_in_%_of_BNG_control_samples_with_the_same_enzyme']], how=\"left\", on=[\"SmapEntryID\"])\n",
    "NA19440_df = merge_full_and_minimal_clusters(full_df, min_df)\n",
    "\n",
    "# NA19440_df = NA19440_df.loc[~NA19440_df['Type'].str.contains(\"common|segdupe|nbase\", regex=True)]"
   ]
  },
  {
   "cell_type": "code",
   "execution_count": 210,
   "metadata": {},
   "outputs": [
    {
     "data": {
      "text/plain": [
       "13685    97.8\n",
       "Name: Present_in_%_of_BNG_control_samples_with_the_same_enzyme, dtype: object"
      ]
     },
     "execution_count": 210,
     "metadata": {},
     "output_type": "execute_result"
    }
   ],
   "source": [
    "vap_df.loc[vap_df['SmapEntryID'] == '27']['Present_in_%_of_BNG_control_samples_with_the_same_enzyme']\n",
    "# vap_df"
   ]
  },
  {
   "cell_type": "code",
   "execution_count": 174,
   "metadata": {},
   "outputs": [
    {
     "data": {
      "text/html": [
       "<div>\n",
       "<style scoped>\n",
       "    .dataframe tbody tr th:only-of-type {\n",
       "        vertical-align: middle;\n",
       "    }\n",
       "\n",
       "    .dataframe tbody tr th {\n",
       "        vertical-align: top;\n",
       "    }\n",
       "\n",
       "    .dataframe thead th {\n",
       "        text-align: right;\n",
       "    }\n",
       "</style>\n",
       "<table border=\"1\" class=\"dataframe\">\n",
       "  <thead>\n",
       "    <tr style=\"text-align: right;\">\n",
       "      <th></th>\n",
       "      <th>clusterId</th>\n",
       "      <th>SmapEntryID</th>\n",
       "      <th>QryContigID</th>\n",
       "      <th>RefcontigID1</th>\n",
       "      <th>RefcontigID2</th>\n",
       "      <th>QryStartPos</th>\n",
       "      <th>QryEndPos</th>\n",
       "      <th>RefStartPos</th>\n",
       "      <th>RefEndPos</th>\n",
       "      <th>Confidence</th>\n",
       "      <th>...</th>\n",
       "      <th>GenotypeGroup</th>\n",
       "      <th>RawConfidence</th>\n",
       "      <th>RawConfidenceLeft</th>\n",
       "      <th>RawConfidenceRight</th>\n",
       "      <th>RawConfidenceCenter</th>\n",
       "      <th>SVsize</th>\n",
       "      <th>SVfreq</th>\n",
       "      <th>Orientation</th>\n",
       "      <th>VAF</th>\n",
       "      <th>Present_in_%_of_BNG_control_samples_with_the_same_enzyme</th>\n",
       "    </tr>\n",
       "  </thead>\n",
       "  <tbody>\n",
       "    <tr>\n",
       "      <th>12</th>\n",
       "      <td>8</td>\n",
       "      <td>27</td>\n",
       "      <td>831</td>\n",
       "      <td>1</td>\n",
       "      <td>1</td>\n",
       "      <td>0.0</td>\n",
       "      <td>61381.9</td>\n",
       "      <td>0.0</td>\n",
       "      <td>635339.0</td>\n",
       "      <td>0.99</td>\n",
       "      <td>...</td>\n",
       "      <td>5</td>\n",
       "      <td>3.00</td>\n",
       "      <td>3.00</td>\n",
       "      <td>151.39</td>\n",
       "      <td>3611.99</td>\n",
       "      <td>573957.1</td>\n",
       "      <td>0.5579999999999999</td>\n",
       "      <td>NA</td>\n",
       "      <td>0.2</td>\n",
       "      <td>48.0</td>\n",
       "    </tr>\n",
       "  </tbody>\n",
       "</table>\n",
       "<p>1 rows × 30 columns</p>\n",
       "</div>"
      ],
      "text/plain": [
       "   clusterId SmapEntryID QryContigID RefcontigID1 RefcontigID2 QryStartPos  \\\n",
       "12         8          27         831            1            1         0.0   \n",
       "\n",
       "   QryEndPos RefStartPos RefEndPos Confidence  ... GenotypeGroup  \\\n",
       "12   61381.9         0.0  635339.0       0.99  ...             5   \n",
       "\n",
       "   RawConfidence RawConfidenceLeft RawConfidenceRight RawConfidenceCenter  \\\n",
       "12          3.00              3.00             151.39             3611.99   \n",
       "\n",
       "      SVsize              SVfreq Orientation  VAF  \\\n",
       "12  573957.1  0.5579999999999999          NA  0.2   \n",
       "\n",
       "   Present_in_%_of_BNG_control_samples_with_the_same_enzyme  \n",
       "12                                               48.0        \n",
       "\n",
       "[1 rows x 30 columns]"
      ]
     },
     "execution_count": 174,
     "metadata": {},
     "output_type": "execute_result"
    }
   ],
   "source": [
    "full_df.loc[full_df['SmapEntryID'] == '27']"
   ]
  },
  {
   "cell_type": "code",
   "execution_count": 175,
   "metadata": {},
   "outputs": [
    {
     "data": {
      "text/html": [
       "<div>\n",
       "<style scoped>\n",
       "    .dataframe tbody tr th:only-of-type {\n",
       "        vertical-align: middle;\n",
       "    }\n",
       "\n",
       "    .dataframe tbody tr th {\n",
       "        vertical-align: top;\n",
       "    }\n",
       "\n",
       "    .dataframe thead th {\n",
       "        text-align: right;\n",
       "    }\n",
       "</style>\n",
       "<table border=\"1\" class=\"dataframe\">\n",
       "  <thead>\n",
       "    <tr style=\"text-align: right;\">\n",
       "      <th></th>\n",
       "      <th>clusterId</th>\n",
       "      <th>SmapEntryID</th>\n",
       "      <th>QryContigID</th>\n",
       "      <th>QryStartPos</th>\n",
       "      <th>QryEndPos</th>\n",
       "      <th>Confidence</th>\n",
       "      <th>Type</th>\n",
       "      <th>XmapID1</th>\n",
       "      <th>XmapID2</th>\n",
       "      <th>LinkID</th>\n",
       "      <th>...</th>\n",
       "      <th>SVfreq</th>\n",
       "      <th>Orientation</th>\n",
       "      <th>VAF</th>\n",
       "      <th>Present_in_%_of_BNG_control_samples_with_the_same_enzyme</th>\n",
       "      <th>RefcontigID1</th>\n",
       "      <th>RefcontigID2</th>\n",
       "      <th>RefStartPos</th>\n",
       "      <th>RefEndPos</th>\n",
       "      <th>SVsize</th>\n",
       "      <th>numMembers</th>\n",
       "    </tr>\n",
       "  </thead>\n",
       "  <tbody>\n",
       "    <tr>\n",
       "      <th>7</th>\n",
       "      <td>8</td>\n",
       "      <td>27</td>\n",
       "      <td>831</td>\n",
       "      <td>0.0</td>\n",
       "      <td>61381.9</td>\n",
       "      <td>0.99</td>\n",
       "      <td>deletion</td>\n",
       "      <td>11</td>\n",
       "      <td>11</td>\n",
       "      <td>-1</td>\n",
       "      <td>...</td>\n",
       "      <td>0.5579999999999999</td>\n",
       "      <td>NA</td>\n",
       "      <td>0.2</td>\n",
       "      <td>48.0</td>\n",
       "      <td>1</td>\n",
       "      <td>1</td>\n",
       "      <td>0.0</td>\n",
       "      <td>635339.0</td>\n",
       "      <td>573958.0</td>\n",
       "      <td>1</td>\n",
       "    </tr>\n",
       "  </tbody>\n",
       "</table>\n",
       "<p>1 rows × 31 columns</p>\n",
       "</div>"
      ],
      "text/plain": [
       "   clusterId  SmapEntryID QryContigID QryStartPos QryEndPos  Confidence  \\\n",
       "7          8           27         831         0.0   61381.9        0.99   \n",
       "\n",
       "       Type XmapID1 XmapID2  LinkID  ...              SVfreq Orientation  VAF  \\\n",
       "7  deletion      11      11      -1  ...  0.5579999999999999          NA  0.2   \n",
       "\n",
       "  Present_in_%_of_BNG_control_samples_with_the_same_enzyme RefcontigID1  \\\n",
       "7                                               48.0                  1   \n",
       "\n",
       "  RefcontigID2 RefStartPos RefEndPos    SVsize numMembers  \n",
       "7            1         0.0  635339.0  573958.0          1  \n",
       "\n",
       "[1 rows x 31 columns]"
      ]
     },
     "execution_count": 175,
     "metadata": {},
     "output_type": "execute_result"
    }
   ],
   "source": [
    "NA19440_df.loc[NA19440_df['SmapEntryID'] == 27]"
   ]
  },
  {
   "cell_type": "code",
   "execution_count": 176,
   "metadata": {},
   "outputs": [
    {
     "data": {
      "text/plain": [
       "(insertion                 9811\n",
       " deletion                  5259\n",
       " inversion_partial          153\n",
       " trans_intrachr_common      143\n",
       " inversion                  125\n",
       " duplication                100\n",
       " duplication_inverted        53\n",
       " trans_interchr_common       44\n",
       " inversion_paired            40\n",
       " inversion_nbase             28\n",
       " duplication_split            8\n",
       " trans_intrachr_segdupe       8\n",
       " translocation_intrachr       1\n",
       " Name: Type, dtype: int64,\n",
       " insertion                 6010\n",
       " deletion                  3554\n",
       " inversion                   51\n",
       " trans_intrachr_common       40\n",
       " duplication                 37\n",
       " duplication_inverted        29\n",
       " trans_interchr_common       29\n",
       " inversion_paired            12\n",
       " inversion_nbase             10\n",
       " duplication_split            6\n",
       " trans_intrachr_segdupe       3\n",
       " Name: Type, dtype: int64)"
      ]
     },
     "execution_count": 176,
     "metadata": {},
     "output_type": "execute_result"
    }
   ],
   "source": [
    "full_df['Type'].value_counts(), NA19440_df['Type'].value_counts()"
   ]
  },
  {
   "cell_type": "markdown",
   "metadata": {},
   "source": [
    "### GM24385"
   ]
  },
  {
   "cell_type": "code",
   "execution_count": 177,
   "metadata": {},
   "outputs": [],
   "source": [
    "# load NA19440 sample\n",
    "vap_df = get_sv_from_smap('/home/users6/sshukor/enrichment_project/input/controlsdb_solve3.7/GM24385_vap/variants_combine_filters_inMoleRefine1.smap')\n",
    "full_df = get_sv_from_smap('/home/users6/sshukor/enrichment_project/output/solve_clustering/GM24385_vap/GM24385_vap_cluster_molecule_variant.txt')\n",
    "min_df = get_sv_from_smap('/home/users6/sshukor/enrichment_project/output/solve_clustering/GM24385_vap/GM24385_vap_cluster_molecule_variant_summary.txt')\n",
    "# declare datatypes\n",
    "\n",
    "# merge percent controldb - 'Present_in_%_of_BNG_control_samples_with_the_same_enzyme'\n",
    "full_df = pd.merge(full_df, vap_df[[\"SmapEntryID\", 'Present_in_%_of_BNG_control_samples_with_the_same_enzyme']], how=\"left\", on=[\"SmapEntryID\"])\n",
    "GM24385_df = merge_full_and_minimal_clusters(full_df, min_df)\n"
   ]
  },
  {
   "cell_type": "code",
   "execution_count": 178,
   "metadata": {},
   "outputs": [
    {
     "data": {
      "text/html": [
       "<div>\n",
       "<style scoped>\n",
       "    .dataframe tbody tr th:only-of-type {\n",
       "        vertical-align: middle;\n",
       "    }\n",
       "\n",
       "    .dataframe tbody tr th {\n",
       "        vertical-align: top;\n",
       "    }\n",
       "\n",
       "    .dataframe thead th {\n",
       "        text-align: right;\n",
       "    }\n",
       "</style>\n",
       "<table border=\"1\" class=\"dataframe\">\n",
       "  <thead>\n",
       "    <tr style=\"text-align: right;\">\n",
       "      <th></th>\n",
       "      <th>SmapEntryID</th>\n",
       "      <th>QryContigID</th>\n",
       "      <th>RefcontigID1</th>\n",
       "      <th>RefcontigID2</th>\n",
       "      <th>QryStartPos</th>\n",
       "      <th>QryEndPos</th>\n",
       "      <th>RefStartPos</th>\n",
       "      <th>RefEndPos</th>\n",
       "      <th>Confidence</th>\n",
       "      <th>Type</th>\n",
       "      <th>...</th>\n",
       "      <th>num_overlap_DGV_calls</th>\n",
       "      <th>OverlapGenes</th>\n",
       "      <th>NearestNonOverlapGene</th>\n",
       "      <th>NearestNonOverlapGeneDistance</th>\n",
       "      <th>PutativeGeneFusion</th>\n",
       "      <th>Found_in_self_molecules</th>\n",
       "      <th>Self_molecule_count</th>\n",
       "      <th>UCSC_web_link1</th>\n",
       "      <th>UCSC_web_link2</th>\n",
       "      <th>ISCN</th>\n",
       "    </tr>\n",
       "  </thead>\n",
       "  <tbody>\n",
       "    <tr>\n",
       "      <th>0</th>\n",
       "      <td>21</td>\n",
       "      <td>652</td>\n",
       "      <td>1</td>\n",
       "      <td>1</td>\n",
       "      <td>2180001.3</td>\n",
       "      <td>2235547.2</td>\n",
       "      <td>0.0</td>\n",
       "      <td>617119.0</td>\n",
       "      <td>0.99</td>\n",
       "      <td>deletion</td>\n",
       "      <td>...</td>\n",
       "      <td>0</td>\n",
       "      <td>DDX11L1;WASH7P;MIR6859-1;MIR1302-2HG;MIR1302-2...</td>\n",
       "      <td>MTND1P23</td>\n",
       "      <td>11943.0</td>\n",
       "      <td>-</td>\n",
       "      <td>no</td>\n",
       "      <td>0</td>\n",
       "      <td>http://genome.ucsc.edu/cgi-bin/hgTracks?db=hg3...</td>\n",
       "      <td>-</td>\n",
       "      <td>ogm[GRCh38] 1p36.33(0_617119)x0</td>\n",
       "    </tr>\n",
       "    <tr>\n",
       "      <th>1</th>\n",
       "      <td>5</td>\n",
       "      <td>651</td>\n",
       "      <td>1</td>\n",
       "      <td>1</td>\n",
       "      <td>2175165.5</td>\n",
       "      <td>2230600.7</td>\n",
       "      <td>0.0</td>\n",
       "      <td>617119.0</td>\n",
       "      <td>0.99</td>\n",
       "      <td>deletion</td>\n",
       "      <td>...</td>\n",
       "      <td>0</td>\n",
       "      <td>DDX11L1;WASH7P;MIR6859-1;MIR1302-2HG;MIR1302-2...</td>\n",
       "      <td>MTND1P23</td>\n",
       "      <td>11943.0</td>\n",
       "      <td>-</td>\n",
       "      <td>no</td>\n",
       "      <td>0</td>\n",
       "      <td>http://genome.ucsc.edu/cgi-bin/hgTracks?db=hg3...</td>\n",
       "      <td>-</td>\n",
       "      <td>ogm[GRCh38] 1p36.33(0_617119)x0</td>\n",
       "    </tr>\n",
       "    <tr>\n",
       "      <th>2</th>\n",
       "      <td>552</td>\n",
       "      <td>42</td>\n",
       "      <td>1</td>\n",
       "      <td>1</td>\n",
       "      <td>19697787.3</td>\n",
       "      <td>19707240.9</td>\n",
       "      <td>101280157.0</td>\n",
       "      <td>101289926.0</td>\n",
       "      <td>-1.0</td>\n",
       "      <td>deletion</td>\n",
       "      <td>...</td>\n",
       "      <td>0</td>\n",
       "      <td>-</td>\n",
       "      <td>PPIAP7</td>\n",
       "      <td>8795.0</td>\n",
       "      <td>-</td>\n",
       "      <td>yes</td>\n",
       "      <td>50</td>\n",
       "      <td>http://genome.ucsc.edu/cgi-bin/hgTracks?db=hg3...</td>\n",
       "      <td>-</td>\n",
       "      <td>ogm[GRCh38] 1p21.2(101280157_101289926)x1</td>\n",
       "    </tr>\n",
       "    <tr>\n",
       "      <th>3</th>\n",
       "      <td>554</td>\n",
       "      <td>42</td>\n",
       "      <td>1</td>\n",
       "      <td>1</td>\n",
       "      <td>18416485.7</td>\n",
       "      <td>18417241.8</td>\n",
       "      <td>102569837.4</td>\n",
       "      <td>102571110.6</td>\n",
       "      <td>0.85</td>\n",
       "      <td>deletion</td>\n",
       "      <td>...</td>\n",
       "      <td>0</td>\n",
       "      <td>-</td>\n",
       "      <td>AC114485.1</td>\n",
       "      <td>180208.4</td>\n",
       "      <td>-</td>\n",
       "      <td>yes</td>\n",
       "      <td>60</td>\n",
       "      <td>http://genome.ucsc.edu/cgi-bin/hgTracks?db=hg3...</td>\n",
       "      <td>-</td>\n",
       "      <td>ogm[GRCh38] 1p21.1(102569837_102571110)x0</td>\n",
       "    </tr>\n",
       "    <tr>\n",
       "      <th>4</th>\n",
       "      <td>666</td>\n",
       "      <td>41</td>\n",
       "      <td>1</td>\n",
       "      <td>1</td>\n",
       "      <td>18382599.1</td>\n",
       "      <td>18383355.2</td>\n",
       "      <td>102569837.4</td>\n",
       "      <td>102571110.6</td>\n",
       "      <td>0.85</td>\n",
       "      <td>deletion</td>\n",
       "      <td>...</td>\n",
       "      <td>0</td>\n",
       "      <td>-</td>\n",
       "      <td>AC114485.1</td>\n",
       "      <td>180208.4</td>\n",
       "      <td>-</td>\n",
       "      <td>yes</td>\n",
       "      <td>56</td>\n",
       "      <td>http://genome.ucsc.edu/cgi-bin/hgTracks?db=hg3...</td>\n",
       "      <td>-</td>\n",
       "      <td>ogm[GRCh38] 1p21.1(102569837_102571110)x0</td>\n",
       "    </tr>\n",
       "    <tr>\n",
       "      <th>...</th>\n",
       "      <td>...</td>\n",
       "      <td>...</td>\n",
       "      <td>...</td>\n",
       "      <td>...</td>\n",
       "      <td>...</td>\n",
       "      <td>...</td>\n",
       "      <td>...</td>\n",
       "      <td>...</td>\n",
       "      <td>...</td>\n",
       "      <td>...</td>\n",
       "      <td>...</td>\n",
       "      <td>...</td>\n",
       "      <td>...</td>\n",
       "      <td>...</td>\n",
       "      <td>...</td>\n",
       "      <td>...</td>\n",
       "      <td>...</td>\n",
       "      <td>...</td>\n",
       "      <td>...</td>\n",
       "      <td>...</td>\n",
       "      <td>...</td>\n",
       "    </tr>\n",
       "    <tr>\n",
       "      <th>15925</th>\n",
       "      <td>12477</td>\n",
       "      <td>1681</td>\n",
       "      <td>14</td>\n",
       "      <td>14</td>\n",
       "      <td>-2276.2</td>\n",
       "      <td>674138.6</td>\n",
       "      <td>18898944.0</td>\n",
       "      <td>19189529.0</td>\n",
       "      <td>-1.0</td>\n",
       "      <td>duplication_split</td>\n",
       "      <td>...</td>\n",
       "      <td>102</td>\n",
       "      <td>NF1P7;MED15P1;AL929601.1;AL929601.2;POTEM;AL92...</td>\n",
       "      <td>AL929601.4</td>\n",
       "      <td>8521.0</td>\n",
       "      <td>-</td>\n",
       "      <td>yes</td>\n",
       "      <td>27</td>\n",
       "      <td>http://genome.ucsc.edu/cgi-bin/hgTracks?db=hg3...</td>\n",
       "      <td>-</td>\n",
       "      <td>ogm[GRCh38] dup(14)(q11.2q11.2)</td>\n",
       "    </tr>\n",
       "    <tr>\n",
       "      <th>15926</th>\n",
       "      <td>13094</td>\n",
       "      <td>4202</td>\n",
       "      <td>15</td>\n",
       "      <td>15</td>\n",
       "      <td>2058033.9</td>\n",
       "      <td>12478948.9</td>\n",
       "      <td>23280389.0</td>\n",
       "      <td>28424089.5</td>\n",
       "      <td>-1.0</td>\n",
       "      <td>duplication_split</td>\n",
       "      <td>...</td>\n",
       "      <td>0</td>\n",
       "      <td>AC242376.1;AC242376.2;AC100756.3;AC100756.1;GO...</td>\n",
       "      <td>MIR4509-2</td>\n",
       "      <td>2401.5</td>\n",
       "      <td>-</td>\n",
       "      <td>yes</td>\n",
       "      <td>8</td>\n",
       "      <td>http://genome.ucsc.edu/cgi-bin/hgTracks?db=hg3...</td>\n",
       "      <td>-</td>\n",
       "      <td>ogm[GRCh38] dup(15)(q11.2q13.1)</td>\n",
       "    </tr>\n",
       "    <tr>\n",
       "      <th>15927</th>\n",
       "      <td>13625</td>\n",
       "      <td>1480</td>\n",
       "      <td>16</td>\n",
       "      <td>16</td>\n",
       "      <td>199951.2</td>\n",
       "      <td>1084806.2</td>\n",
       "      <td>16210691.0</td>\n",
       "      <td>16523720.0</td>\n",
       "      <td>-1.0</td>\n",
       "      <td>duplication_split</td>\n",
       "      <td>...</td>\n",
       "      <td>45</td>\n",
       "      <td>ABCC6;AC136624.1;NOMO3;AC136624.3;AC136624.2;M...</td>\n",
       "      <td>AC136619.2</td>\n",
       "      <td>17497.0</td>\n",
       "      <td>ABCC6-AC136431.1</td>\n",
       "      <td>yes</td>\n",
       "      <td>40</td>\n",
       "      <td>http://genome.ucsc.edu/cgi-bin/hgTracks?db=hg3...</td>\n",
       "      <td>-</td>\n",
       "      <td>ogm[GRCh38] dup(16)(p13.11p13.11)</td>\n",
       "    </tr>\n",
       "    <tr>\n",
       "      <th>15928</th>\n",
       "      <td>13683</td>\n",
       "      <td>3130</td>\n",
       "      <td>16</td>\n",
       "      <td>16</td>\n",
       "      <td>-49170.0</td>\n",
       "      <td>403359.2</td>\n",
       "      <td>22600242.0</td>\n",
       "      <td>22708167.0</td>\n",
       "      <td>-1.0</td>\n",
       "      <td>duplication_split</td>\n",
       "      <td>...</td>\n",
       "      <td>3502</td>\n",
       "      <td>AC009021.2;AC009021.1</td>\n",
       "      <td>OTOAP1</td>\n",
       "      <td>23378.0</td>\n",
       "      <td>-</td>\n",
       "      <td>yes</td>\n",
       "      <td>27</td>\n",
       "      <td>http://genome.ucsc.edu/cgi-bin/hgTracks?db=hg3...</td>\n",
       "      <td>-</td>\n",
       "      <td>ogm[GRCh38] dup(16)(p12.2p12.2)</td>\n",
       "    </tr>\n",
       "    <tr>\n",
       "      <th>15929</th>\n",
       "      <td>16259</td>\n",
       "      <td>1941</td>\n",
       "      <td>22</td>\n",
       "      <td>22</td>\n",
       "      <td>8211.2</td>\n",
       "      <td>744955.6</td>\n",
       "      <td>15513412.0</td>\n",
       "      <td>15875120.0</td>\n",
       "      <td>-1.0</td>\n",
       "      <td>duplication_split</td>\n",
       "      <td>...</td>\n",
       "      <td>843</td>\n",
       "      <td>OR11H1;AP000534.2;ARHGAP42P3;AP000534.1;AP0005...</td>\n",
       "      <td>YME1L1P1</td>\n",
       "      <td>20849.0</td>\n",
       "      <td>-</td>\n",
       "      <td>yes</td>\n",
       "      <td>58</td>\n",
       "      <td>http://genome.ucsc.edu/cgi-bin/hgTracks?db=hg3...</td>\n",
       "      <td>-</td>\n",
       "      <td>ogm[GRCh38] dup(22)(q11.1q11.1)</td>\n",
       "    </tr>\n",
       "  </tbody>\n",
       "</table>\n",
       "<p>15930 rows × 52 columns</p>\n",
       "</div>"
      ],
      "text/plain": [
       "      SmapEntryID QryContigID RefcontigID1 RefcontigID2 QryStartPos  \\\n",
       "0              21         652            1            1   2180001.3   \n",
       "1               5         651            1            1   2175165.5   \n",
       "2             552          42            1            1  19697787.3   \n",
       "3             554          42            1            1  18416485.7   \n",
       "4             666          41            1            1  18382599.1   \n",
       "...           ...         ...          ...          ...         ...   \n",
       "15925       12477        1681           14           14     -2276.2   \n",
       "15926       13094        4202           15           15   2058033.9   \n",
       "15927       13625        1480           16           16    199951.2   \n",
       "15928       13683        3130           16           16    -49170.0   \n",
       "15929       16259        1941           22           22      8211.2   \n",
       "\n",
       "        QryEndPos  RefStartPos    RefEndPos Confidence               Type  \\\n",
       "0       2235547.2          0.0     617119.0       0.99           deletion   \n",
       "1       2230600.7          0.0     617119.0       0.99           deletion   \n",
       "2      19707240.9  101280157.0  101289926.0       -1.0           deletion   \n",
       "3      18417241.8  102569837.4  102571110.6       0.85           deletion   \n",
       "4      18383355.2  102569837.4  102571110.6       0.85           deletion   \n",
       "...           ...          ...          ...        ...                ...   \n",
       "15925    674138.6   18898944.0   19189529.0       -1.0  duplication_split   \n",
       "15926  12478948.9   23280389.0   28424089.5       -1.0  duplication_split   \n",
       "15927   1084806.2   16210691.0   16523720.0       -1.0  duplication_split   \n",
       "15928    403359.2   22600242.0   22708167.0       -1.0  duplication_split   \n",
       "15929    744955.6   15513412.0   15875120.0       -1.0  duplication_split   \n",
       "\n",
       "       ... num_overlap_DGV_calls  \\\n",
       "0      ...                     0   \n",
       "1      ...                     0   \n",
       "2      ...                     0   \n",
       "3      ...                     0   \n",
       "4      ...                     0   \n",
       "...    ...                   ...   \n",
       "15925  ...                   102   \n",
       "15926  ...                     0   \n",
       "15927  ...                    45   \n",
       "15928  ...                  3502   \n",
       "15929  ...                   843   \n",
       "\n",
       "                                            OverlapGenes  \\\n",
       "0      DDX11L1;WASH7P;MIR6859-1;MIR1302-2HG;MIR1302-2...   \n",
       "1      DDX11L1;WASH7P;MIR6859-1;MIR1302-2HG;MIR1302-2...   \n",
       "2                                                      -   \n",
       "3                                                      -   \n",
       "4                                                      -   \n",
       "...                                                  ...   \n",
       "15925  NF1P7;MED15P1;AL929601.1;AL929601.2;POTEM;AL92...   \n",
       "15926  AC242376.1;AC242376.2;AC100756.3;AC100756.1;GO...   \n",
       "15927  ABCC6;AC136624.1;NOMO3;AC136624.3;AC136624.2;M...   \n",
       "15928                              AC009021.2;AC009021.1   \n",
       "15929  OR11H1;AP000534.2;ARHGAP42P3;AP000534.1;AP0005...   \n",
       "\n",
       "      NearestNonOverlapGene NearestNonOverlapGeneDistance PutativeGeneFusion  \\\n",
       "0                  MTND1P23                       11943.0                  -   \n",
       "1                  MTND1P23                       11943.0                  -   \n",
       "2                    PPIAP7                        8795.0                  -   \n",
       "3                AC114485.1                      180208.4                  -   \n",
       "4                AC114485.1                      180208.4                  -   \n",
       "...                     ...                           ...                ...   \n",
       "15925            AL929601.4                        8521.0                  -   \n",
       "15926             MIR4509-2                        2401.5                  -   \n",
       "15927            AC136619.2                       17497.0   ABCC6-AC136431.1   \n",
       "15928                OTOAP1                       23378.0                  -   \n",
       "15929              YME1L1P1                       20849.0                  -   \n",
       "\n",
       "      Found_in_self_molecules Self_molecule_count  \\\n",
       "0                          no                   0   \n",
       "1                          no                   0   \n",
       "2                         yes                  50   \n",
       "3                         yes                  60   \n",
       "4                         yes                  56   \n",
       "...                       ...                 ...   \n",
       "15925                     yes                  27   \n",
       "15926                     yes                   8   \n",
       "15927                     yes                  40   \n",
       "15928                     yes                  27   \n",
       "15929                     yes                  58   \n",
       "\n",
       "                                          UCSC_web_link1 UCSC_web_link2  \\\n",
       "0      http://genome.ucsc.edu/cgi-bin/hgTracks?db=hg3...              -   \n",
       "1      http://genome.ucsc.edu/cgi-bin/hgTracks?db=hg3...              -   \n",
       "2      http://genome.ucsc.edu/cgi-bin/hgTracks?db=hg3...              -   \n",
       "3      http://genome.ucsc.edu/cgi-bin/hgTracks?db=hg3...              -   \n",
       "4      http://genome.ucsc.edu/cgi-bin/hgTracks?db=hg3...              -   \n",
       "...                                                  ...            ...   \n",
       "15925  http://genome.ucsc.edu/cgi-bin/hgTracks?db=hg3...              -   \n",
       "15926  http://genome.ucsc.edu/cgi-bin/hgTracks?db=hg3...              -   \n",
       "15927  http://genome.ucsc.edu/cgi-bin/hgTracks?db=hg3...              -   \n",
       "15928  http://genome.ucsc.edu/cgi-bin/hgTracks?db=hg3...              -   \n",
       "15929  http://genome.ucsc.edu/cgi-bin/hgTracks?db=hg3...              -   \n",
       "\n",
       "                                            ISCN  \n",
       "0                ogm[GRCh38] 1p36.33(0_617119)x0  \n",
       "1                ogm[GRCh38] 1p36.33(0_617119)x0  \n",
       "2      ogm[GRCh38] 1p21.2(101280157_101289926)x1  \n",
       "3      ogm[GRCh38] 1p21.1(102569837_102571110)x0  \n",
       "4      ogm[GRCh38] 1p21.1(102569837_102571110)x0  \n",
       "...                                          ...  \n",
       "15925            ogm[GRCh38] dup(14)(q11.2q11.2)  \n",
       "15926            ogm[GRCh38] dup(15)(q11.2q13.1)  \n",
       "15927          ogm[GRCh38] dup(16)(p13.11p13.11)  \n",
       "15928            ogm[GRCh38] dup(16)(p12.2p12.2)  \n",
       "15929            ogm[GRCh38] dup(22)(q11.1q11.1)  \n",
       "\n",
       "[15930 rows x 52 columns]"
      ]
     },
     "execution_count": 178,
     "metadata": {},
     "output_type": "execute_result"
    }
   ],
   "source": [
    "vap_df"
   ]
  },
  {
   "cell_type": "markdown",
   "metadata": {},
   "source": [
    "### GM18550"
   ]
  },
  {
   "cell_type": "code",
   "execution_count": 179,
   "metadata": {},
   "outputs": [],
   "source": [
    "# load NA19440 sample\n",
    "vap_df = get_sv_from_smap('/home/users6/sshukor/enrichment_project/input/controlsdb_solve3.7/GM18552_vap/variants_combine_filters_inMoleRefine1.smap')\n",
    "full_df = get_sv_from_smap('/home/users6/sshukor/enrichment_project/output/solve_clustering/GM18552_vap/GM18552_vap_cluster_molecule_variant.txt')\n",
    "min_df = get_sv_from_smap('/home/users6/sshukor/enrichment_project/output/solve_clustering/GM18552_vap/GM18552_vap_cluster_molecule_variant_summary.txt')\n",
    "# declare datatypes\n",
    "\n",
    "# merge percent controldb - 'Present_in_%_of_BNG_control_samples_with_the_same_enzyme'\n",
    "full_df = pd.merge(full_df, vap_df[[\"SmapEntryID\", 'Present_in_%_of_BNG_control_samples_with_the_same_enzyme']], how=\"left\", on=[\"SmapEntryID\"])\n",
    "GM18552_df = merge_full_and_minimal_clusters(full_df, min_df)\n"
   ]
  },
  {
   "cell_type": "code",
   "execution_count": 180,
   "metadata": {},
   "outputs": [],
   "source": [
    "# vap_df.columns, full_df.columns"
   ]
  },
  {
   "cell_type": "code",
   "execution_count": 181,
   "metadata": {},
   "outputs": [],
   "source": [
    "# filter for high_confidence and rare SVs"
   ]
  },
  {
   "cell_type": "markdown",
   "metadata": {},
   "source": [
    "### Calculate % controldb with VAP files and SOlve 3.7 contorldb"
   ]
  },
  {
   "cell_type": "code",
   "execution_count": 182,
   "metadata": {},
   "outputs": [],
   "source": [
    "def filter_sig_sv(df):\n",
    "    # output_df = df.loc[df['Sample_ID'].isin(IDs)]\n",
    "    # percent_controldb_cutoff = 1\n",
    "    # percent_ctrldb = 'Present_in_%_of_BNG_control_samples_with_the_same_enzyme'\n",
    "    \n",
    "    non_masked_df = df.loc[~df['Type'].str.contains(\"common|segdupe|nbase|trans\", regex=True)]    \n",
    "    sig_df = filter_sig_svs(non_masked_df)\n",
    "    return sig_df"
   ]
  },
  {
   "cell_type": "code",
   "execution_count": 183,
   "metadata": {},
   "outputs": [
    {
     "name": "stdout",
     "output_type": "stream",
     "text": [
      "3928 4286 8087\n"
     ]
    }
   ],
   "source": [
    "GM24385_sig_df = filter_sig_sv(GM24385_df)\n",
    "NA19440_sig_df = filter_sig_sv(NA19440_df)\n",
    "GM18552_sig_df = filter_sig_sv(GM18552_df)\n",
    "\n",
    "print(len(GM24385_sig_df), len(NA19440_sig_df), len(GM18552_sig_df))"
   ]
  },
  {
   "cell_type": "code",
   "execution_count": 184,
   "metadata": {},
   "outputs": [],
   "source": [
    "# add sample name\n",
    "GM24385_sig_df['Sample_ID'] = 'GM24385_dle1_sop'\n",
    "NA19440_sig_df['Sample_ID'] = 'NA19440_dle1_sop'\n",
    "GM18552_sig_df['Sample_ID'] = 'GM18552_dle1_sop'"
   ]
  },
  {
   "cell_type": "code",
   "execution_count": 185,
   "metadata": {},
   "outputs": [],
   "source": [
    "GM24385_sig_df.to_csv(rf\"{output_dir}/GM24385_sig_svs.txt\", sep='\\t', index=False)\n",
    "NA19440_sig_df.to_csv(rf\"{output_dir}/NA19440_sig_svs.txt\", sep='\\t', index=False)\n",
    "GM18552_sig_df.to_csv(rf\"{output_dir}/GM18552_sig_svs.txt\", sep='\\t', index=False)"
   ]
  },
  {
   "cell_type": "code",
   "execution_count": 186,
   "metadata": {},
   "outputs": [],
   "source": [
    "# load rare SV files\n",
    "GM24385_rare_df = pd.read_csv(rf\"{output_dir}/GM24385_sig_svs_annotated.txt\", dtype=object,  index_col=False)\n",
    "NA19440_rare_df = pd.read_csv(rf\"{output_dir}/NA19440_sig_svs_annotated.txt\", dtype=object,  index_col=False)\n",
    "GM18552_rare_df = pd.read_csv(rf\"{output_dir}/GM18552_sig_svs_annotated.txt\", dtype=object,  index_col=False)"
   ]
  },
  {
   "cell_type": "markdown",
   "metadata": {},
   "source": [
    "## Analyze rare & high conf SVs"
   ]
  },
  {
   "cell_type": "code",
   "execution_count": 187,
   "metadata": {},
   "outputs": [],
   "source": [
    "# # output_df = df.loc[df['Sample_ID'].isin(IDs)]\n",
    "# percent_controldb_cutoff = 1\n",
    "# percent_ctrldb = 'Present_in_%_of_BNG_control_samples_with_the_same_enzyme'\n",
    "# sig_df = filter_sig_svs(out_df)\n",
    "# sig_df = sig_df.astype({percent_ctrldb:\"float64\"})\n",
    "# sig_df[percent_ctrldb] = sig_df.apply(lambda x: round(x[percent_ctrldb], 2), axis=1)\n",
    "# rare_df = sig_df.loc[sig_df[percent_ctrldb] <= percent_controldb_cutoff]\n",
    "\n",
    "# print(len(out_df), len(sig_df), len(rare_df))"
   ]
  },
  {
   "cell_type": "code",
   "execution_count": 188,
   "metadata": {},
   "outputs": [],
   "source": [
    "def filter_sig_rare_sv(df, percent_ctrldb_col, percent_controldb_cutoff):\n",
    "    # output_df = df.loc[df['Sample_ID'].isin(IDs)]\n",
    "    # percent_controldb_cutoff = 1\n",
    "    # percent_ctrldb = 'Present_in_%_of_BNG_control_samples_with_the_same_enzyme'\n",
    "    \n",
    "    non_masked_df = df.loc[~df['Type'].str.contains(\"common|segdupe|nbase|trans\", regex=True)]\n",
    "    non_masked_df = non_masked_df.astype({percent_ctrldb_col:\"float64\"})\n",
    "    non_masked_df[percent_ctrldb_col] = non_masked_df.apply(lambda x: round(x[percent_ctrldb_col], 2), axis=1)\n",
    "    \n",
    "    sig_df = filter_sig_svs(non_masked_df)\n",
    "    rare_df = sig_df.loc[sig_df[percent_ctrldb_col] <= percent_controldb_cutoff]\n",
    "\n",
    "    print(len(df), len(non_masked_df), len(sig_df), len(rare_df))\n",
    "    # return rare_df"
   ]
  },
  {
   "cell_type": "code",
   "execution_count": 189,
   "metadata": {},
   "outputs": [
    {
     "data": {
      "text/plain": [
       "2.2"
      ]
     },
     "execution_count": 189,
     "metadata": {},
     "output_type": "execute_result"
    }
   ],
   "source": [
    "def adjust_percent_controldb(val):\n",
    "    val = float(val)\n",
    "    \n",
    "    if val > 0:\n",
    "        out_val = (round((val/100*179) - 1)/178) * 100\n",
    "    elif val == 0:\n",
    "        out_val = 0    \n",
    "    else:\n",
    "        return val\n",
    "    return round(out_val, 1)\n",
    "\n",
    "adjust_percent_controldb(round(5/179*100))"
   ]
  },
  {
   "cell_type": "code",
   "execution_count": 190,
   "metadata": {},
   "outputs": [
    {
     "data": {
      "text/plain": [
       "3"
      ]
     },
     "execution_count": 190,
     "metadata": {},
     "output_type": "execute_result"
    }
   ],
   "source": [
    "round(1.67/100*179)"
   ]
  },
  {
   "cell_type": "code",
   "execution_count": 191,
   "metadata": {},
   "outputs": [],
   "source": [
    "GM24385_df['Present_in_%_of_BNG_control_samples_with_the_same_enzyme_adjusted'] = GM24385_df['Present_in_%_of_BNG_control_samples_with_the_same_enzyme'].fillna(0).apply(lambda x: adjust_percent_controldb(x))\n",
    "NA19440_df['Present_in_%_of_BNG_control_samples_with_the_same_enzyme_adjusted'] = NA19440_df['Present_in_%_of_BNG_control_samples_with_the_same_enzyme'].fillna(0).apply(lambda x: adjust_percent_controldb(x))\n",
    "GM18552_df['Present_in_%_of_BNG_control_samples_with_the_same_enzyme_adjusted'] = GM18552_df['Present_in_%_of_BNG_control_samples_with_the_same_enzyme'].fillna(0).apply(lambda x: adjust_percent_controldb(x))"
   ]
  },
  {
   "cell_type": "code",
   "execution_count": 192,
   "metadata": {},
   "outputs": [
    {
     "name": "stdout",
     "output_type": "stream",
     "text": [
      "9304 9207 3928 0\n",
      "9304 9207 3928 2\n",
      "9304 9207 3928 2\n",
      "9304 9207 3928 42\n"
     ]
    }
   ],
   "source": [
    "filter_sig_rare_sv(GM24385_df, 'Present_in_%_of_BNG_control_samples_with_the_same_enzyme', 0)\n",
    "filter_sig_rare_sv(GM24385_df, 'Present_in_%_of_BNG_control_samples_with_the_same_enzyme', 1)\n",
    "\n",
    "filter_sig_rare_sv(GM24385_df, 'Present_in_%_of_BNG_control_samples_with_the_same_enzyme_adjusted', 0)\n",
    "filter_sig_rare_sv(GM24385_df, 'Present_in_%_of_BNG_control_samples_with_the_same_enzyme_adjusted', 1)"
   ]
  },
  {
   "cell_type": "code",
   "execution_count": 193,
   "metadata": {},
   "outputs": [
    {
     "name": "stdout",
     "output_type": "stream",
     "text": [
      "9781 9699 4286 5\n",
      "9781 9699 4286 88\n",
      "9781 9699 4286 88\n",
      "9781 9699 4286 142\n"
     ]
    }
   ],
   "source": [
    "filter_sig_rare_sv(NA19440_df, 'Present_in_%_of_BNG_control_samples_with_the_same_enzyme', 0)\n",
    "filter_sig_rare_sv(NA19440_df, 'Present_in_%_of_BNG_control_samples_with_the_same_enzyme', 1)\n",
    "\n",
    "filter_sig_rare_sv(NA19440_df, 'Present_in_%_of_BNG_control_samples_with_the_same_enzyme_adjusted', 0)\n",
    "filter_sig_rare_sv(NA19440_df, 'Present_in_%_of_BNG_control_samples_with_the_same_enzyme_adjusted', 1)"
   ]
  },
  {
   "cell_type": "code",
   "execution_count": 194,
   "metadata": {},
   "outputs": [
    {
     "name": "stdout",
     "output_type": "stream",
     "text": [
      "15890 15825 8087 1689\n",
      "15890 15825 8087 3380\n",
      "15890 15825 8087 3380\n",
      "15890 15825 8087 3868\n"
     ]
    }
   ],
   "source": [
    "filter_sig_rare_sv(GM18552_df,  'Present_in_%_of_BNG_control_samples_with_the_same_enzyme', 0)\n",
    "filter_sig_rare_sv(GM18552_df,  'Present_in_%_of_BNG_control_samples_with_the_same_enzyme', 1)\n",
    "\n",
    "filter_sig_rare_sv(GM18552_df,  'Present_in_%_of_BNG_control_samples_with_the_same_enzyme_adjusted', 0)\n",
    "filter_sig_rare_sv(GM18552_df,  'Present_in_%_of_BNG_control_samples_with_the_same_enzyme_adjusted', 1)"
   ]
  },
  {
   "cell_type": "code",
   "execution_count": 195,
   "metadata": {},
   "outputs": [
    {
     "name": "stdout",
     "output_type": "stream",
     "text": [
      "3927 3927 3927 2\n",
      "3927 3927 3927 36\n"
     ]
    }
   ],
   "source": [
    "\n",
    "filter_sig_rare_sv(GM24385_rare_df,  'percent_controldb', 0)\n",
    "filter_sig_rare_sv(GM24385_rare_df,  'percent_controldb', 1)"
   ]
  },
  {
   "cell_type": "code",
   "execution_count": 196,
   "metadata": {},
   "outputs": [
    {
     "name": "stdout",
     "output_type": "stream",
     "text": [
      "4285 4285 4285 81\n",
      "4285 4285 4285 137\n"
     ]
    }
   ],
   "source": [
    "\n",
    "filter_sig_rare_sv(NA19440_rare_df,  'percent_controldb', 0)\n",
    "filter_sig_rare_sv(NA19440_rare_df,  'percent_controldb', 1)"
   ]
  },
  {
   "cell_type": "code",
   "execution_count": 197,
   "metadata": {},
   "outputs": [
    {
     "name": "stdout",
     "output_type": "stream",
     "text": [
      "8087 8087 8087 2975\n",
      "8087 8087 8087 3753\n"
     ]
    }
   ],
   "source": [
    "filter_sig_rare_sv(GM18552_rare_df,  'percent_controldb', 0)\n",
    "filter_sig_rare_sv(GM18552_rare_df,  'percent_controldb', 1)\n"
   ]
  },
  {
   "cell_type": "code",
   "execution_count": 198,
   "metadata": {},
   "outputs": [],
   "source": [
    "GM24385_rare_df = GM24385_rare_df.astype({'percent_controldb':'float64', 'Present_in_%_of_BNG_control_samples_with_the_same_enzyme':'float64'})\n",
    "GM18552_rare_df = GM18552_rare_df.astype({'percent_controldb':'float64', 'Present_in_%_of_BNG_control_samples_with_the_same_enzyme':'float64'})\n",
    "NA19440_rare_df = NA19440_rare_df.astype({'percent_controldb':'float64', 'Present_in_%_of_BNG_control_samples_with_the_same_enzyme':'float64'})\n",
    "\n",
    "GM24385_rare_df['Present_in_%_of_BNG_control_samples_with_the_same_enzyme_adjusted'] = GM24385_rare_df['Present_in_%_of_BNG_control_samples_with_the_same_enzyme'].fillna(0).apply(lambda x: adjust_percent_controldb(x))\n",
    "NA19440_rare_df['Present_in_%_of_BNG_control_samples_with_the_same_enzyme_adjusted'] = NA19440_rare_df['Present_in_%_of_BNG_control_samples_with_the_same_enzyme'].fillna(0).apply(lambda x: adjust_percent_controldb(x))\n",
    "GM18552_rare_df['Present_in_%_of_BNG_control_samples_with_the_same_enzyme_adjusted'] = GM18552_rare_df['Present_in_%_of_BNG_control_samples_with_the_same_enzyme'].fillna(0).apply(lambda x: adjust_percent_controldb(x))"
   ]
  },
  {
   "cell_type": "code",
   "execution_count": 199,
   "metadata": {},
   "outputs": [
    {
     "data": {
      "text/plain": [
       "(3927, 4285, 8087)"
      ]
     },
     "execution_count": 199,
     "metadata": {},
     "output_type": "execute_result"
    }
   ],
   "source": [
    "len(GM24385_rare_df), len(NA19440_rare_df), len(GM18552_rare_df)"
   ]
  },
  {
   "cell_type": "code",
   "execution_count": 200,
   "metadata": {},
   "outputs": [
    {
     "data": {
      "text/html": [
       "<div>\n",
       "<style scoped>\n",
       "    .dataframe tbody tr th:only-of-type {\n",
       "        vertical-align: middle;\n",
       "    }\n",
       "\n",
       "    .dataframe tbody tr th {\n",
       "        vertical-align: top;\n",
       "    }\n",
       "\n",
       "    .dataframe thead th {\n",
       "        text-align: right;\n",
       "    }\n",
       "</style>\n",
       "<table border=\"1\" class=\"dataframe\">\n",
       "  <thead>\n",
       "    <tr style=\"text-align: right;\">\n",
       "      <th></th>\n",
       "      <th>clusterId</th>\n",
       "      <th>SmapEntryID</th>\n",
       "      <th>QryContigID</th>\n",
       "      <th>QryStartPos</th>\n",
       "      <th>QryEndPos</th>\n",
       "      <th>Confidence</th>\n",
       "      <th>Type</th>\n",
       "      <th>XmapID1</th>\n",
       "      <th>XmapID2</th>\n",
       "      <th>LinkID</th>\n",
       "      <th>...</th>\n",
       "      <th>Present_in_%_of_BNG_control_samples_with_the_same_enzyme</th>\n",
       "      <th>RefcontigID1</th>\n",
       "      <th>RefcontigID2</th>\n",
       "      <th>RefStartPos</th>\n",
       "      <th>RefEndPos</th>\n",
       "      <th>SVsize</th>\n",
       "      <th>numMembers</th>\n",
       "      <th>Sample_ID</th>\n",
       "      <th>percent_controldb</th>\n",
       "      <th>Present_in_%_of_BNG_control_samples_with_the_same_enzyme_adjusted</th>\n",
       "    </tr>\n",
       "  </thead>\n",
       "  <tbody>\n",
       "    <tr>\n",
       "      <th>0</th>\n",
       "      <td>2</td>\n",
       "      <td>4</td>\n",
       "      <td>602</td>\n",
       "      <td>4388811.3</td>\n",
       "      <td>4396977.7</td>\n",
       "      <td>0.9</td>\n",
       "      <td>deletion</td>\n",
       "      <td>2</td>\n",
       "      <td>2</td>\n",
       "      <td>-1</td>\n",
       "      <td>...</td>\n",
       "      <td>14.5</td>\n",
       "      <td>1</td>\n",
       "      <td>1</td>\n",
       "      <td>428120.0</td>\n",
       "      <td>437099.0</td>\n",
       "      <td>813.0</td>\n",
       "      <td>2</td>\n",
       "      <td>NA19440_dle1_sop</td>\n",
       "      <td>13.41</td>\n",
       "      <td>14.0</td>\n",
       "    </tr>\n",
       "    <tr>\n",
       "      <th>1</th>\n",
       "      <td>4</td>\n",
       "      <td>13</td>\n",
       "      <td>831</td>\n",
       "      <td>25772.0</td>\n",
       "      <td>49371.2</td>\n",
       "      <td>0.99</td>\n",
       "      <td>insertion</td>\n",
       "      <td>7</td>\n",
       "      <td>7</td>\n",
       "      <td>-1</td>\n",
       "      <td>...</td>\n",
       "      <td>13.4</td>\n",
       "      <td>1</td>\n",
       "      <td>1</td>\n",
       "      <td>365535.0</td>\n",
       "      <td>387230.0</td>\n",
       "      <td>1577.0</td>\n",
       "      <td>3</td>\n",
       "      <td>NA19440_dle1_sop</td>\n",
       "      <td>6.15</td>\n",
       "      <td>12.9</td>\n",
       "    </tr>\n",
       "    <tr>\n",
       "      <th>2</th>\n",
       "      <td>5</td>\n",
       "      <td>14</td>\n",
       "      <td>832</td>\n",
       "      <td>30369.0</td>\n",
       "      <td>50567.9</td>\n",
       "      <td>0.98</td>\n",
       "      <td>deletion</td>\n",
       "      <td>8</td>\n",
       "      <td>8</td>\n",
       "      <td>-1</td>\n",
       "      <td>...</td>\n",
       "      <td>7.3</td>\n",
       "      <td>1</td>\n",
       "      <td>1</td>\n",
       "      <td>365535.0</td>\n",
       "      <td>387230.0</td>\n",
       "      <td>1497.0</td>\n",
       "      <td>1</td>\n",
       "      <td>NA19440_dle1_sop</td>\n",
       "      <td>5.59</td>\n",
       "      <td>6.7</td>\n",
       "    </tr>\n",
       "    <tr>\n",
       "      <th>3</th>\n",
       "      <td>6</td>\n",
       "      <td>16</td>\n",
       "      <td>3241</td>\n",
       "      <td>300449.6</td>\n",
       "      <td>319250.3</td>\n",
       "      <td>0.99</td>\n",
       "      <td>insertion</td>\n",
       "      <td>9</td>\n",
       "      <td>9</td>\n",
       "      <td>-1</td>\n",
       "      <td>...</td>\n",
       "      <td>3.4</td>\n",
       "      <td>1</td>\n",
       "      <td>1</td>\n",
       "      <td>428120.0</td>\n",
       "      <td>445474.0</td>\n",
       "      <td>1446.0</td>\n",
       "      <td>2</td>\n",
       "      <td>NA19440_dle1_sop</td>\n",
       "      <td>2.23</td>\n",
       "      <td>2.8</td>\n",
       "    </tr>\n",
       "    <tr>\n",
       "      <th>4</th>\n",
       "      <td>8</td>\n",
       "      <td>27</td>\n",
       "      <td>831</td>\n",
       "      <td>0.0</td>\n",
       "      <td>61381.9</td>\n",
       "      <td>0.99</td>\n",
       "      <td>deletion</td>\n",
       "      <td>11</td>\n",
       "      <td>11</td>\n",
       "      <td>-1</td>\n",
       "      <td>...</td>\n",
       "      <td>NaN</td>\n",
       "      <td>1</td>\n",
       "      <td>1</td>\n",
       "      <td>0.0</td>\n",
       "      <td>635339.0</td>\n",
       "      <td>573958.0</td>\n",
       "      <td>1</td>\n",
       "      <td>NA19440_dle1_sop</td>\n",
       "      <td>40.78</td>\n",
       "      <td>0.0</td>\n",
       "    </tr>\n",
       "    <tr>\n",
       "      <th>...</th>\n",
       "      <td>...</td>\n",
       "      <td>...</td>\n",
       "      <td>...</td>\n",
       "      <td>...</td>\n",
       "      <td>...</td>\n",
       "      <td>...</td>\n",
       "      <td>...</td>\n",
       "      <td>...</td>\n",
       "      <td>...</td>\n",
       "      <td>...</td>\n",
       "      <td>...</td>\n",
       "      <td>...</td>\n",
       "      <td>...</td>\n",
       "      <td>...</td>\n",
       "      <td>...</td>\n",
       "      <td>...</td>\n",
       "      <td>...</td>\n",
       "      <td>...</td>\n",
       "      <td>...</td>\n",
       "      <td>...</td>\n",
       "      <td>...</td>\n",
       "    </tr>\n",
       "    <tr>\n",
       "      <th>4280</th>\n",
       "      <td>9696</td>\n",
       "      <td>15808</td>\n",
       "      <td>751</td>\n",
       "      <td>1041860.8</td>\n",
       "      <td>1041860.8</td>\n",
       "      <td>0.77</td>\n",
       "      <td>inversion</td>\n",
       "      <td>1151</td>\n",
       "      <td>1155</td>\n",
       "      <td>15809</td>\n",
       "      <td>...</td>\n",
       "      <td>97.2</td>\n",
       "      <td>21</td>\n",
       "      <td>21</td>\n",
       "      <td>5605389.0</td>\n",
       "      <td>6215576.0</td>\n",
       "      <td>610188.0</td>\n",
       "      <td>3</td>\n",
       "      <td>NA19440_dle1_sop</td>\n",
       "      <td>100.00</td>\n",
       "      <td>97.2</td>\n",
       "    </tr>\n",
       "    <tr>\n",
       "      <th>4281</th>\n",
       "      <td>9697</td>\n",
       "      <td>15822</td>\n",
       "      <td>751</td>\n",
       "      <td>1041860.8</td>\n",
       "      <td>1074861.7</td>\n",
       "      <td>1.0</td>\n",
       "      <td>inversion</td>\n",
       "      <td>1155</td>\n",
       "      <td>1167</td>\n",
       "      <td>15823</td>\n",
       "      <td>...</td>\n",
       "      <td>100.0</td>\n",
       "      <td>21</td>\n",
       "      <td>21</td>\n",
       "      <td>6215576.0</td>\n",
       "      <td>8100606.0</td>\n",
       "      <td>1885031.0</td>\n",
       "      <td>3</td>\n",
       "      <td>NA19440_dle1_sop</td>\n",
       "      <td>100.00</td>\n",
       "      <td>100.0</td>\n",
       "    </tr>\n",
       "    <tr>\n",
       "      <th>4282</th>\n",
       "      <td>9703</td>\n",
       "      <td>16784</td>\n",
       "      <td>182</td>\n",
       "      <td>6837822.1</td>\n",
       "      <td>6837822.1</td>\n",
       "      <td>0.9</td>\n",
       "      <td>inversion_paired</td>\n",
       "      <td>1386</td>\n",
       "      <td>1388</td>\n",
       "      <td>16785</td>\n",
       "      <td>...</td>\n",
       "      <td>31.8</td>\n",
       "      <td>23</td>\n",
       "      <td>23</td>\n",
       "      <td>51689302.0</td>\n",
       "      <td>51704032.0</td>\n",
       "      <td>14731.0</td>\n",
       "      <td>2</td>\n",
       "      <td>NA19440_dle1_sop</td>\n",
       "      <td>31.28</td>\n",
       "      <td>31.5</td>\n",
       "    </tr>\n",
       "    <tr>\n",
       "      <th>4283</th>\n",
       "      <td>9706</td>\n",
       "      <td>17212</td>\n",
       "      <td>121</td>\n",
       "      <td>68677992.1</td>\n",
       "      <td>68677992.1</td>\n",
       "      <td>1.0</td>\n",
       "      <td>inversion</td>\n",
       "      <td>1408</td>\n",
       "      <td>1411</td>\n",
       "      <td>17213</td>\n",
       "      <td>...</td>\n",
       "      <td>48.6</td>\n",
       "      <td>23</td>\n",
       "      <td>23</td>\n",
       "      <td>141094963.0</td>\n",
       "      <td>141492441.0</td>\n",
       "      <td>383019.0</td>\n",
       "      <td>4</td>\n",
       "      <td>NA19440_dle1_sop</td>\n",
       "      <td>55.87</td>\n",
       "      <td>48.3</td>\n",
       "    </tr>\n",
       "    <tr>\n",
       "      <th>4284</th>\n",
       "      <td>9707</td>\n",
       "      <td>17245</td>\n",
       "      <td>122</td>\n",
       "      <td>33664939.6</td>\n",
       "      <td>33664939.6</td>\n",
       "      <td>0.78</td>\n",
       "      <td>inversion_paired</td>\n",
       "      <td>1410</td>\n",
       "      <td>1413</td>\n",
       "      <td>17246</td>\n",
       "      <td>...</td>\n",
       "      <td>78.8</td>\n",
       "      <td>23</td>\n",
       "      <td>23</td>\n",
       "      <td>149663747.5</td>\n",
       "      <td>149739517.5</td>\n",
       "      <td>75771.0</td>\n",
       "      <td>1</td>\n",
       "      <td>NA19440_dle1_sop</td>\n",
       "      <td>77.65</td>\n",
       "      <td>78.7</td>\n",
       "    </tr>\n",
       "  </tbody>\n",
       "</table>\n",
       "<p>4280 rows × 34 columns</p>\n",
       "</div>"
      ],
      "text/plain": [
       "     clusterId SmapEntryID QryContigID QryStartPos   QryEndPos Confidence  \\\n",
       "0            2           4         602   4388811.3   4396977.7        0.9   \n",
       "1            4          13         831     25772.0     49371.2       0.99   \n",
       "2            5          14         832     30369.0     50567.9       0.98   \n",
       "3            6          16        3241    300449.6    319250.3       0.99   \n",
       "4            8          27         831         0.0     61381.9       0.99   \n",
       "...        ...         ...         ...         ...         ...        ...   \n",
       "4280      9696       15808         751   1041860.8   1041860.8       0.77   \n",
       "4281      9697       15822         751   1041860.8   1074861.7        1.0   \n",
       "4282      9703       16784         182   6837822.1   6837822.1        0.9   \n",
       "4283      9706       17212         121  68677992.1  68677992.1        1.0   \n",
       "4284      9707       17245         122  33664939.6  33664939.6       0.78   \n",
       "\n",
       "                  Type XmapID1 XmapID2 LinkID  ...  \\\n",
       "0             deletion       2       2     -1  ...   \n",
       "1            insertion       7       7     -1  ...   \n",
       "2             deletion       8       8     -1  ...   \n",
       "3            insertion       9       9     -1  ...   \n",
       "4             deletion      11      11     -1  ...   \n",
       "...                ...     ...     ...    ...  ...   \n",
       "4280         inversion    1151    1155  15809  ...   \n",
       "4281         inversion    1155    1167  15823  ...   \n",
       "4282  inversion_paired    1386    1388  16785  ...   \n",
       "4283         inversion    1408    1411  17213  ...   \n",
       "4284  inversion_paired    1410    1413  17246  ...   \n",
       "\n",
       "     Present_in_%_of_BNG_control_samples_with_the_same_enzyme RefcontigID1  \\\n",
       "0                                                  14.5                  1   \n",
       "1                                                  13.4                  1   \n",
       "2                                                   7.3                  1   \n",
       "3                                                   3.4                  1   \n",
       "4                                                   NaN                  1   \n",
       "...                                                 ...                ...   \n",
       "4280                                               97.2                 21   \n",
       "4281                                              100.0                 21   \n",
       "4282                                               31.8                 23   \n",
       "4283                                               48.6                 23   \n",
       "4284                                               78.8                 23   \n",
       "\n",
       "     RefcontigID2  RefStartPos    RefEndPos     SVsize numMembers  \\\n",
       "0               1     428120.0     437099.0      813.0          2   \n",
       "1               1     365535.0     387230.0     1577.0          3   \n",
       "2               1     365535.0     387230.0     1497.0          1   \n",
       "3               1     428120.0     445474.0     1446.0          2   \n",
       "4               1          0.0     635339.0   573958.0          1   \n",
       "...           ...          ...          ...        ...        ...   \n",
       "4280           21    5605389.0    6215576.0   610188.0          3   \n",
       "4281           21    6215576.0    8100606.0  1885031.0          3   \n",
       "4282           23   51689302.0   51704032.0    14731.0          2   \n",
       "4283           23  141094963.0  141492441.0   383019.0          4   \n",
       "4284           23  149663747.5  149739517.5    75771.0          1   \n",
       "\n",
       "             Sample_ID percent_controldb  \\\n",
       "0     NA19440_dle1_sop             13.41   \n",
       "1     NA19440_dle1_sop              6.15   \n",
       "2     NA19440_dle1_sop              5.59   \n",
       "3     NA19440_dle1_sop              2.23   \n",
       "4     NA19440_dle1_sop             40.78   \n",
       "...                ...               ...   \n",
       "4280  NA19440_dle1_sop            100.00   \n",
       "4281  NA19440_dle1_sop            100.00   \n",
       "4282  NA19440_dle1_sop             31.28   \n",
       "4283  NA19440_dle1_sop             55.87   \n",
       "4284  NA19440_dle1_sop             77.65   \n",
       "\n",
       "     Present_in_%_of_BNG_control_samples_with_the_same_enzyme_adjusted  \n",
       "0                                                  14.0                 \n",
       "1                                                  12.9                 \n",
       "2                                                   6.7                 \n",
       "3                                                   2.8                 \n",
       "4                                                   0.0                 \n",
       "...                                                 ...                 \n",
       "4280                                               97.2                 \n",
       "4281                                              100.0                 \n",
       "4282                                               31.5                 \n",
       "4283                                               48.3                 \n",
       "4284                                               78.7                 \n",
       "\n",
       "[4280 rows x 34 columns]"
      ]
     },
     "execution_count": 200,
     "metadata": {},
     "output_type": "execute_result"
    }
   ],
   "source": [
    "NA19440_rare_df.loc[NA19440_rare_df['Present_in_%_of_BNG_control_samples_with_the_same_enzyme'] != 0]"
   ]
  },
  {
   "cell_type": "markdown",
   "metadata": {},
   "source": [
    "## Plot overlap between different controldb calculations"
   ]
  },
  {
   "cell_type": "code",
   "execution_count": 201,
   "metadata": {},
   "outputs": [],
   "source": [
    "# helper function to plot venn diagram\n",
    "def plot_venn(subsets, label1, label2, title):\n",
    "    plt.title(f\"{title}\", fontsize=12)\n",
    "    # venn2(subsets = (30, 10, 5), set_labels = ('Group A', 'Group B'), set_colors=('r', 'g'), alpha = 0.5);\n",
    "    vd = venn2(subsets = subsets, set_labels = (label1, label2), set_colors=('b', 'g'), alpha = 0.5)\n",
    "    vd.get_label_by_id(\"10\").set_y(0.1)\n",
    "    vd.get_label_by_id(\"10\").set_x(-0.7)\n",
    "    vd.get_label_by_id(\"01\").set_x(0.7)\n",
    "    # vd.get_label_by_id(\"11\").set_y(0.05)\n",
    "    vd.get_label_by_id(\"11\").set_x(-0.4)\n",
    "    vd.get_patch_by_id('C').set_ls('dashed')\n",
    "    vd.get_patch_by_id('C').set_edgecolor('black')\n",
    "    vd.get_patch_by_id('C').set_lw(1.5)\n",
    "    # venn2_circles(subsets = subsets)\n",
    "    plt.show()\n",
    "\n",
    "def plot_dual_overlap_venn(df, cutoff,case_header,ctrl_header,title, case_label, ctrl_label):\n",
    "\n",
    "    numCaseOnly = len(df.loc[(df[case_header] <= cutoff) & (df[ctrl_header] > cutoff)])\n",
    "    numCtrlOnly = len(df.loc[(df[case_header] > cutoff) & (df[ctrl_header] <= cutoff)])\n",
    "    numShared = len(df.loc[(df[case_header] <= cutoff) & (df[ctrl_header] <= cutoff)])\n",
    "\n",
    "    plot_venn((numCaseOnly, numCtrlOnly, numShared), f'{case_label}\\n# SVs: {numCaseOnly + numShared}', f'{ctrl_label}\\n# SVs: {numCtrlOnly + numShared}', title)"
   ]
  },
  {
   "cell_type": "code",
   "execution_count": 202,
   "metadata": {},
   "outputs": [],
   "source": [
    "COH = 'percent_controldb'\n",
    "VAP = 'Present_in_%_of_BNG_control_samples_with_the_same_enzyme'\n",
    "VAP_adj = 'Present_in_%_of_BNG_control_samples_with_the_same_enzyme_adjusted'"
   ]
  },
  {
   "cell_type": "code",
   "execution_count": 203,
   "metadata": {},
   "outputs": [
    {
     "data": {
      "image/png": "[encoded data removed]",
      "text/plain": [
       "<Figure size 640x480 with 1 Axes>"
      ]
     },
     "metadata": {},
     "output_type": "display_data"
    },
    {
     "data": {
      "image/png": "[encoded data removed]",
      "text/plain": [
       "<Figure size 640x480 with 1 Axes>"
      ]
     },
     "metadata": {},
     "output_type": "display_data"
    }
   ],
   "source": [
    "# plot_dual_overlap_venn(NA19440_rare_df, 0, VAP, VAP_adj, \"Plotting VAP vs Cohort 0% presence in controldb counts\")\n",
    "plot_dual_overlap_venn(NA19440_rare_df, 0, COH, VAP_adj, \"Plotting VAP_adjusted vs Cohort 1% presence in controldb counts\", \"Cohort Workflow\", \"VAP_adjusted\")\n",
    "plot_dual_overlap_venn(NA19440_rare_df, 1, COH, VAP_adj, \"Plotting VAP_adjusted vs Cohort 1% presence in controldb counts\", \"Cohort Workflow\", \"VAP_adjusted\")\n",
    "# plot_dual_overlap_venn(NA19440_rare_df, 0, VAP, COH, \"Plotting VAP vs Cohort 0% presence in controldb counts\")"
   ]
  },
  {
   "cell_type": "code",
   "execution_count": 204,
   "metadata": {},
   "outputs": [
    {
     "data": {
      "image/png": "[encoded data removed]",
      "text/plain": [
       "<Figure size 640x480 with 1 Axes>"
      ]
     },
     "metadata": {},
     "output_type": "display_data"
    },
    {
     "data": {
      "image/png": "[encoded data removed]",
      "text/plain": [
       "<Figure size 640x480 with 1 Axes>"
      ]
     },
     "metadata": {},
     "output_type": "display_data"
    }
   ],
   "source": [
    "# plot_dual_overlap_venn(GM18552_rare_df, 1, VAP, VAP_adj, \"Plotting VAP vs Cohort 1% presence in controldb counts\")\n",
    "plot_dual_overlap_venn(GM18552_rare_df, 0, COH, VAP_adj, \"Plotting VAP_adjusted vs Cohort 0% presence in controldb counts\", \"Cohort Workflow\", \"VAP_adjusted\")\n",
    "plot_dual_overlap_venn(GM18552_rare_df, 1, COH, VAP_adj, \"Plotting VAP_adjusted vs Cohort 1% presence in controldb counts\", \"Cohort Workflow\", \"VAP_adjusted\")\n",
    "# plot_dual_overlap_venn(GM18552_rare_df, 1, COH, VAP, \"Plotting VAP vs Cohort 1% presence in controldb counts\")"
   ]
  },
  {
   "cell_type": "code",
   "execution_count": 205,
   "metadata": {},
   "outputs": [
    {
     "data": {
      "image/png": "[encoded data removed]",
      "text/plain": [
       "<Figure size 640x480 with 1 Axes>"
      ]
     },
     "metadata": {},
     "output_type": "display_data"
    },
    {
     "data": {
      "image/png": "[encoded data removed]",
      "text/plain": [
       "<Figure size 640x480 with 1 Axes>"
      ]
     },
     "metadata": {},
     "output_type": "display_data"
    }
   ],
   "source": [
    "plot_dual_overlap_venn(GM24385_rare_df, 0, COH, VAP_adj, \"Plotting VAP_adjusted vs Cohort 0% presence in controldb counts\", \"Cohort Workflow\", \"VAP_adjusted\")\n",
    "plot_dual_overlap_venn(GM24385_rare_df, 1, COH, VAP_adj, \"Plotting VAP_adjusted vs Cohort 1% presence in controldb counts\", \"Cohort Workflow\", \"VAP_adjusted\")"
   ]
  },
  {
   "cell_type": "markdown",
   "metadata": {},
   "source": [
    "Cohort overlaps a lot with VAP"
   ]
  },
  {
   "cell_type": "markdown",
   "metadata": {},
   "source": [
    "## Proof of adjustment from 5 -> 89 for NA19440"
   ]
  },
  {
   "cell_type": "code",
   "execution_count": 209,
   "metadata": {},
   "outputs": [],
   "source": [
    "# NA19440_rare_df.loc[(NA19440_rare_df['Present_in_%_of_BNG_control_samples_with_the_same_enzyme_adjusted'] == 0) & (NA19440_rare_df['Present_in_%_of_BNG_control_samples_with_the_same_enzyme'] != 0)]['Present_in_%_of_BNG_control_samples_with_the_same_enzyme'].unique()\n",
    "NA19440_rare_df.loc[(NA19440_rare_df['Present_in_%_of_BNG_control_samples_with_the_same_enzyme_adjusted'] == 0) & (NA19440_rare_df['Present_in_%_of_BNG_control_samples_with_the_same_enzyme'] != 0)].to_csv(rf\"{output_dir}/NA19440_rare_sv_proof.txt\", sep='\\t', index=False)"
   ]
  },
  {
   "cell_type": "markdown",
   "metadata": {},
   "source": [
    "## Recreate approach with full df"
   ]
  },
  {
   "cell_type": "code",
   "execution_count": 207,
   "metadata": {},
   "outputs": [],
   "source": [
    "NA19440_full_df = get_sv_from_smap('/home/users6/sshukor/enrichment_project/output/solve_clustering/NA19440_vap/NA19440_vap_cluster_molecule_variant.txt')\n",
    "GM24385_full_df = get_sv_from_smap('/home/users6/sshukor/enrichment_project/output/solve_clustering/GM24385_vap/GM24385_vap_cluster_molecule_variant.txt')\n",
    "GM18552_full_df = get_sv_from_smap('/home/users6/sshukor/enrichment_project/output/solve_clustering/GM18552_vap/GM18552_vap_cluster_molecule_variant.txt')"
   ]
  }
 ],
 "metadata": {
  "kernelspec": {
   "display_name": "enrichment",
   "language": "python",
   "name": "python3"
  },
  "language_info": {
   "codemirror_mode": {
    "name": "ipython",
    "version": 3
   },
   "file_extension": ".py",
   "mimetype": "text/x-python",
   "name": "python",
   "nbconvert_exporter": "python",
   "pygments_lexer": "ipython3",
   "version": "3.11.0"
  },
  "orig_nbformat": 4
 },
 "nbformat": 4,
 "nbformat_minor": 2
}
